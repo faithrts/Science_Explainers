{
  "nbformat": 4,
  "nbformat_minor": 0,
  "metadata": {
    "colab": {
      "provenance": [],
      "include_colab_link": true
    },
    "kernelspec": {
      "name": "python3",
      "display_name": "Python 3"
    },
    "language_info": {
      "name": "python"
    }
  },
  "cells": [
    {
      "cell_type": "markdown",
      "metadata": {
        "id": "view-in-github",
        "colab_type": "text"
      },
      "source": [
        "<a href=\"https://colab.research.google.com/github/faithrts/Science_Explainers/blob/main/science_explainer_analysis.ipynb\" target=\"_parent\"><img src=\"https://colab.research.google.com/assets/colab-badge.svg\" alt=\"Open In Colab\"/></a>"
      ]
    },
    {
      "cell_type": "markdown",
      "source": [
        "# Setup"
      ],
      "metadata": {
        "id": "Il4s_vHhFaj1"
      }
    },
    {
      "cell_type": "code",
      "execution_count": 1,
      "metadata": {
        "id": "nKJMJPjMzJj6"
      },
      "outputs": [],
      "source": [
        "### importing libraries\n",
        "\n",
        "# basic libraries\n",
        "import pandas as pd\n",
        "import matplotlib.pyplot as plt\n",
        "import numpy as np\n",
        "\n",
        "# to download files\n",
        "from google.colab import files\n",
        "\n",
        "import re\n",
        "import codecs\n",
        "\n",
        "# sklearn libraries for ML\n",
        "from sklearn.feature_extraction.text import CountVectorizer\n",
        "from sklearn.feature_extraction.text import TfidfVectorizer\n",
        "from sklearn.model_selection import train_test_split\n",
        "from sklearn.linear_model import LogisticRegression"
      ]
    },
    {
      "cell_type": "markdown",
      "source": [
        "# Importing article URL database"
      ],
      "metadata": {
        "id": "1jFpPaq5PE03"
      }
    },
    {
      "cell_type": "code",
      "source": [
        "### cloning git repo\n",
        "\n",
        "!git clone https://github.com/faithrts/Science_Explainers"
      ],
      "metadata": {
        "colab": {
          "base_uri": "https://localhost:8080/"
        },
        "id": "9_CUSjEnPIq3",
        "outputId": "5d67f9be-b59a-4774-e46a-7d9ba2bf24b7"
      },
      "execution_count": 2,
      "outputs": [
        {
          "output_type": "stream",
          "name": "stdout",
          "text": [
            "Cloning into 'Science_Explainers'...\n",
            "remote: Enumerating objects: 513, done.\u001b[K\n",
            "remote: Counting objects: 100% (407/407), done.\u001b[K\n",
            "remote: Compressing objects: 100% (359/359), done.\u001b[K\n",
            "remote: Total 513 (delta 68), reused 367 (delta 47), pack-reused 106\u001b[K\n",
            "Receiving objects: 100% (513/513), 1.36 MiB | 9.29 MiB/s, done.\n",
            "Resolving deltas: 100% (71/71), done.\n"
          ]
        }
      ]
    },
    {
      "cell_type": "code",
      "source": [
        "### saving csv file of URLs into dataframe\n",
        "\n",
        "explainer_df = pd.read_csv('Science_Explainers/science_explainers_database.csv')"
      ],
      "metadata": {
        "id": "a98-w61QQwcd"
      },
      "execution_count": 3,
      "outputs": []
    },
    {
      "cell_type": "code",
      "source": [
        "explainer_df"
      ],
      "metadata": {
        "colab": {
          "base_uri": "https://localhost:8080/",
          "height": 1000
        },
        "id": "_GvDc1tTP7JL",
        "outputId": "bc93ee17-1d20-433c-ac35-6173655c7136"
      },
      "execution_count": 4,
      "outputs": [
        {
          "output_type": "execute_result",
          "data": {
            "text/plain": [
              "                                              FILENAME  \\\n",
              "0          ATLANTIC/HowToSuccessfullySmashYourFace.txt   \n",
              "1                ATLANTIC/WillCovidsSpringLullLast.txt   \n",
              "2           ATLANTIC/TeenBrainsArePerfectlyCapable.txt   \n",
              "3                   ATLANTIC/TheFishHadGillsFullOf.txt   \n",
              "4          ATLANTIC/LushPrairiesCouldReallyBeGreen.txt   \n",
              "..                                                 ...   \n",
              "355  REUTERS/PlasticEnteringOceansCouldNearlyTriple...   \n",
              "356  REUTERS/FukushimaWastewaterReleaseWouldHaveLim...   \n",
              "357                REUTERS/MoreThanHalfOfTheWorlds.txt   \n",
              "358         REUTERS/AmputeesCouldFeelWarmthOfHuman.txt   \n",
              "359         REUTERS/CarbonMajorsFaceBiggestHitFrom.txt   \n",
              "\n",
              "                                                 TITLE    SOURCE  \\\n",
              "0    How to Successfully Smash Your Face Against a ...  ATLANTIC   \n",
              "1                       Will COVID’s Spring Lull Last?  ATLANTIC   \n",
              "2                    Teen Brains Are Perfectly Capable  ATLANTIC   \n",
              "3    The Fish Had Gills Full of Ash and Gas Bubblin...  ATLANTIC   \n",
              "4        Lush Prairies Could Really Be ‘Green Deserts’  ATLANTIC   \n",
              "..                                                 ...       ...   \n",
              "355  Plastic entering oceans could nearly triple by...   REUTERS   \n",
              "356  Fukushima wastewater release would have limite...   REUTERS   \n",
              "357  More than half of the world's large lakes are ...   REUTERS   \n",
              "358  Amputees could feel warmth of human touch with...   REUTERS   \n",
              "359  'Carbon majors' face biggest hit from climate ...   REUTERS   \n",
              "\n",
              "    DATE PUBLISHED                                                URL  \n",
              "0       2022-07-14  https://www.theatlantic.com/science/archive/20...  \n",
              "1       2023-05-01  https://www.theatlantic.com/science/archive/20...  \n",
              "2       2023-04-30  https://www.theatlantic.com/science/archive/20...  \n",
              "3       2023-04-29  https://www.theatlantic.com/science/archive/20...  \n",
              "4       2023-04-23  https://www.theatlantic.com/science/archive/20...  \n",
              "..             ...                                                ...  \n",
              "355     2023-03-08  https://www.reuters.com/business/environment/p...  \n",
              "356     2023-02-16  https://www.reuters.com/world/asia-pacific/fuk...  \n",
              "357     2023-05-18  https://www.reuters.com/business/environment/m...  \n",
              "358     2023-05-18  https://www.reuters.com/business/healthcare-ph...  \n",
              "359     2023-05-23  https://www.reuters.com/business/environment/c...  \n",
              "\n",
              "[360 rows x 5 columns]"
            ],
            "text/html": [
              "\n",
              "  <div id=\"df-ae5f413e-595d-451a-99f3-176b62026217\" class=\"colab-df-container\">\n",
              "    <div>\n",
              "<style scoped>\n",
              "    .dataframe tbody tr th:only-of-type {\n",
              "        vertical-align: middle;\n",
              "    }\n",
              "\n",
              "    .dataframe tbody tr th {\n",
              "        vertical-align: top;\n",
              "    }\n",
              "\n",
              "    .dataframe thead th {\n",
              "        text-align: right;\n",
              "    }\n",
              "</style>\n",
              "<table border=\"1\" class=\"dataframe\">\n",
              "  <thead>\n",
              "    <tr style=\"text-align: right;\">\n",
              "      <th></th>\n",
              "      <th>FILENAME</th>\n",
              "      <th>TITLE</th>\n",
              "      <th>SOURCE</th>\n",
              "      <th>DATE PUBLISHED</th>\n",
              "      <th>URL</th>\n",
              "    </tr>\n",
              "  </thead>\n",
              "  <tbody>\n",
              "    <tr>\n",
              "      <th>0</th>\n",
              "      <td>ATLANTIC/HowToSuccessfullySmashYourFace.txt</td>\n",
              "      <td>How to Successfully Smash Your Face Against a ...</td>\n",
              "      <td>ATLANTIC</td>\n",
              "      <td>2022-07-14</td>\n",
              "      <td>https://www.theatlantic.com/science/archive/20...</td>\n",
              "    </tr>\n",
              "    <tr>\n",
              "      <th>1</th>\n",
              "      <td>ATLANTIC/WillCovidsSpringLullLast.txt</td>\n",
              "      <td>Will COVID’s Spring Lull Last?</td>\n",
              "      <td>ATLANTIC</td>\n",
              "      <td>2023-05-01</td>\n",
              "      <td>https://www.theatlantic.com/science/archive/20...</td>\n",
              "    </tr>\n",
              "    <tr>\n",
              "      <th>2</th>\n",
              "      <td>ATLANTIC/TeenBrainsArePerfectlyCapable.txt</td>\n",
              "      <td>Teen Brains Are Perfectly Capable</td>\n",
              "      <td>ATLANTIC</td>\n",
              "      <td>2023-04-30</td>\n",
              "      <td>https://www.theatlantic.com/science/archive/20...</td>\n",
              "    </tr>\n",
              "    <tr>\n",
              "      <th>3</th>\n",
              "      <td>ATLANTIC/TheFishHadGillsFullOf.txt</td>\n",
              "      <td>The Fish Had Gills Full of Ash and Gas Bubblin...</td>\n",
              "      <td>ATLANTIC</td>\n",
              "      <td>2023-04-29</td>\n",
              "      <td>https://www.theatlantic.com/science/archive/20...</td>\n",
              "    </tr>\n",
              "    <tr>\n",
              "      <th>4</th>\n",
              "      <td>ATLANTIC/LushPrairiesCouldReallyBeGreen.txt</td>\n",
              "      <td>Lush Prairies Could Really Be ‘Green Deserts’</td>\n",
              "      <td>ATLANTIC</td>\n",
              "      <td>2023-04-23</td>\n",
              "      <td>https://www.theatlantic.com/science/archive/20...</td>\n",
              "    </tr>\n",
              "    <tr>\n",
              "      <th>...</th>\n",
              "      <td>...</td>\n",
              "      <td>...</td>\n",
              "      <td>...</td>\n",
              "      <td>...</td>\n",
              "      <td>...</td>\n",
              "    </tr>\n",
              "    <tr>\n",
              "      <th>355</th>\n",
              "      <td>REUTERS/PlasticEnteringOceansCouldNearlyTriple...</td>\n",
              "      <td>Plastic entering oceans could nearly triple by...</td>\n",
              "      <td>REUTERS</td>\n",
              "      <td>2023-03-08</td>\n",
              "      <td>https://www.reuters.com/business/environment/p...</td>\n",
              "    </tr>\n",
              "    <tr>\n",
              "      <th>356</th>\n",
              "      <td>REUTERS/FukushimaWastewaterReleaseWouldHaveLim...</td>\n",
              "      <td>Fukushima wastewater release would have limite...</td>\n",
              "      <td>REUTERS</td>\n",
              "      <td>2023-02-16</td>\n",
              "      <td>https://www.reuters.com/world/asia-pacific/fuk...</td>\n",
              "    </tr>\n",
              "    <tr>\n",
              "      <th>357</th>\n",
              "      <td>REUTERS/MoreThanHalfOfTheWorlds.txt</td>\n",
              "      <td>More than half of the world's large lakes are ...</td>\n",
              "      <td>REUTERS</td>\n",
              "      <td>2023-05-18</td>\n",
              "      <td>https://www.reuters.com/business/environment/m...</td>\n",
              "    </tr>\n",
              "    <tr>\n",
              "      <th>358</th>\n",
              "      <td>REUTERS/AmputeesCouldFeelWarmthOfHuman.txt</td>\n",
              "      <td>Amputees could feel warmth of human touch with...</td>\n",
              "      <td>REUTERS</td>\n",
              "      <td>2023-05-18</td>\n",
              "      <td>https://www.reuters.com/business/healthcare-ph...</td>\n",
              "    </tr>\n",
              "    <tr>\n",
              "      <th>359</th>\n",
              "      <td>REUTERS/CarbonMajorsFaceBiggestHitFrom.txt</td>\n",
              "      <td>'Carbon majors' face biggest hit from climate ...</td>\n",
              "      <td>REUTERS</td>\n",
              "      <td>2023-05-23</td>\n",
              "      <td>https://www.reuters.com/business/environment/c...</td>\n",
              "    </tr>\n",
              "  </tbody>\n",
              "</table>\n",
              "<p>360 rows × 5 columns</p>\n",
              "</div>\n",
              "    <div class=\"colab-df-buttons\">\n",
              "\n",
              "  <div class=\"colab-df-container\">\n",
              "    <button class=\"colab-df-convert\" onclick=\"convertToInteractive('df-ae5f413e-595d-451a-99f3-176b62026217')\"\n",
              "            title=\"Convert this dataframe to an interactive table.\"\n",
              "            style=\"display:none;\">\n",
              "\n",
              "  <svg xmlns=\"http://www.w3.org/2000/svg\" height=\"24px\" viewBox=\"0 -960 960 960\">\n",
              "    <path d=\"M120-120v-720h720v720H120Zm60-500h600v-160H180v160Zm220 220h160v-160H400v160Zm0 220h160v-160H400v160ZM180-400h160v-160H180v160Zm440 0h160v-160H620v160ZM180-180h160v-160H180v160Zm440 0h160v-160H620v160Z\"/>\n",
              "  </svg>\n",
              "    </button>\n",
              "\n",
              "  <style>\n",
              "    .colab-df-container {\n",
              "      display:flex;\n",
              "      gap: 12px;\n",
              "    }\n",
              "\n",
              "    .colab-df-convert {\n",
              "      background-color: #E8F0FE;\n",
              "      border: none;\n",
              "      border-radius: 50%;\n",
              "      cursor: pointer;\n",
              "      display: none;\n",
              "      fill: #1967D2;\n",
              "      height: 32px;\n",
              "      padding: 0 0 0 0;\n",
              "      width: 32px;\n",
              "    }\n",
              "\n",
              "    .colab-df-convert:hover {\n",
              "      background-color: #E2EBFA;\n",
              "      box-shadow: 0px 1px 2px rgba(60, 64, 67, 0.3), 0px 1px 3px 1px rgba(60, 64, 67, 0.15);\n",
              "      fill: #174EA6;\n",
              "    }\n",
              "\n",
              "    .colab-df-buttons div {\n",
              "      margin-bottom: 4px;\n",
              "    }\n",
              "\n",
              "    [theme=dark] .colab-df-convert {\n",
              "      background-color: #3B4455;\n",
              "      fill: #D2E3FC;\n",
              "    }\n",
              "\n",
              "    [theme=dark] .colab-df-convert:hover {\n",
              "      background-color: #434B5C;\n",
              "      box-shadow: 0px 1px 3px 1px rgba(0, 0, 0, 0.15);\n",
              "      filter: drop-shadow(0px 1px 2px rgba(0, 0, 0, 0.3));\n",
              "      fill: #FFFFFF;\n",
              "    }\n",
              "  </style>\n",
              "\n",
              "    <script>\n",
              "      const buttonEl =\n",
              "        document.querySelector('#df-ae5f413e-595d-451a-99f3-176b62026217 button.colab-df-convert');\n",
              "      buttonEl.style.display =\n",
              "        google.colab.kernel.accessAllowed ? 'block' : 'none';\n",
              "\n",
              "      async function convertToInteractive(key) {\n",
              "        const element = document.querySelector('#df-ae5f413e-595d-451a-99f3-176b62026217');\n",
              "        const dataTable =\n",
              "          await google.colab.kernel.invokeFunction('convertToInteractive',\n",
              "                                                    [key], {});\n",
              "        if (!dataTable) return;\n",
              "\n",
              "        const docLinkHtml = 'Like what you see? Visit the ' +\n",
              "          '<a target=\"_blank\" href=https://colab.research.google.com/notebooks/data_table.ipynb>data table notebook</a>'\n",
              "          + ' to learn more about interactive tables.';\n",
              "        element.innerHTML = '';\n",
              "        dataTable['output_type'] = 'display_data';\n",
              "        await google.colab.output.renderOutput(dataTable, element);\n",
              "        const docLink = document.createElement('div');\n",
              "        docLink.innerHTML = docLinkHtml;\n",
              "        element.appendChild(docLink);\n",
              "      }\n",
              "    </script>\n",
              "  </div>\n",
              "\n",
              "\n",
              "<div id=\"df-4924df5b-d808-4a55-b5ab-31f8b7ed428d\">\n",
              "  <button class=\"colab-df-quickchart\" onclick=\"quickchart('df-4924df5b-d808-4a55-b5ab-31f8b7ed428d')\"\n",
              "            title=\"Suggest charts.\"\n",
              "            style=\"display:none;\">\n",
              "\n",
              "<svg xmlns=\"http://www.w3.org/2000/svg\" height=\"24px\"viewBox=\"0 0 24 24\"\n",
              "     width=\"24px\">\n",
              "    <g>\n",
              "        <path d=\"M19 3H5c-1.1 0-2 .9-2 2v14c0 1.1.9 2 2 2h14c1.1 0 2-.9 2-2V5c0-1.1-.9-2-2-2zM9 17H7v-7h2v7zm4 0h-2V7h2v10zm4 0h-2v-4h2v4z\"/>\n",
              "    </g>\n",
              "</svg>\n",
              "  </button>\n",
              "\n",
              "<style>\n",
              "  .colab-df-quickchart {\n",
              "      --bg-color: #E8F0FE;\n",
              "      --fill-color: #1967D2;\n",
              "      --hover-bg-color: #E2EBFA;\n",
              "      --hover-fill-color: #174EA6;\n",
              "      --disabled-fill-color: #AAA;\n",
              "      --disabled-bg-color: #DDD;\n",
              "  }\n",
              "\n",
              "  [theme=dark] .colab-df-quickchart {\n",
              "      --bg-color: #3B4455;\n",
              "      --fill-color: #D2E3FC;\n",
              "      --hover-bg-color: #434B5C;\n",
              "      --hover-fill-color: #FFFFFF;\n",
              "      --disabled-bg-color: #3B4455;\n",
              "      --disabled-fill-color: #666;\n",
              "  }\n",
              "\n",
              "  .colab-df-quickchart {\n",
              "    background-color: var(--bg-color);\n",
              "    border: none;\n",
              "    border-radius: 50%;\n",
              "    cursor: pointer;\n",
              "    display: none;\n",
              "    fill: var(--fill-color);\n",
              "    height: 32px;\n",
              "    padding: 0;\n",
              "    width: 32px;\n",
              "  }\n",
              "\n",
              "  .colab-df-quickchart:hover {\n",
              "    background-color: var(--hover-bg-color);\n",
              "    box-shadow: 0 1px 2px rgba(60, 64, 67, 0.3), 0 1px 3px 1px rgba(60, 64, 67, 0.15);\n",
              "    fill: var(--button-hover-fill-color);\n",
              "  }\n",
              "\n",
              "  .colab-df-quickchart-complete:disabled,\n",
              "  .colab-df-quickchart-complete:disabled:hover {\n",
              "    background-color: var(--disabled-bg-color);\n",
              "    fill: var(--disabled-fill-color);\n",
              "    box-shadow: none;\n",
              "  }\n",
              "\n",
              "  .colab-df-spinner {\n",
              "    border: 2px solid var(--fill-color);\n",
              "    border-color: transparent;\n",
              "    border-bottom-color: var(--fill-color);\n",
              "    animation:\n",
              "      spin 1s steps(1) infinite;\n",
              "  }\n",
              "\n",
              "  @keyframes spin {\n",
              "    0% {\n",
              "      border-color: transparent;\n",
              "      border-bottom-color: var(--fill-color);\n",
              "      border-left-color: var(--fill-color);\n",
              "    }\n",
              "    20% {\n",
              "      border-color: transparent;\n",
              "      border-left-color: var(--fill-color);\n",
              "      border-top-color: var(--fill-color);\n",
              "    }\n",
              "    30% {\n",
              "      border-color: transparent;\n",
              "      border-left-color: var(--fill-color);\n",
              "      border-top-color: var(--fill-color);\n",
              "      border-right-color: var(--fill-color);\n",
              "    }\n",
              "    40% {\n",
              "      border-color: transparent;\n",
              "      border-right-color: var(--fill-color);\n",
              "      border-top-color: var(--fill-color);\n",
              "    }\n",
              "    60% {\n",
              "      border-color: transparent;\n",
              "      border-right-color: var(--fill-color);\n",
              "    }\n",
              "    80% {\n",
              "      border-color: transparent;\n",
              "      border-right-color: var(--fill-color);\n",
              "      border-bottom-color: var(--fill-color);\n",
              "    }\n",
              "    90% {\n",
              "      border-color: transparent;\n",
              "      border-bottom-color: var(--fill-color);\n",
              "    }\n",
              "  }\n",
              "</style>\n",
              "\n",
              "  <script>\n",
              "    async function quickchart(key) {\n",
              "      const quickchartButtonEl =\n",
              "        document.querySelector('#' + key + ' button');\n",
              "      quickchartButtonEl.disabled = true;  // To prevent multiple clicks.\n",
              "      quickchartButtonEl.classList.add('colab-df-spinner');\n",
              "      try {\n",
              "        const charts = await google.colab.kernel.invokeFunction(\n",
              "            'suggestCharts', [key], {});\n",
              "      } catch (error) {\n",
              "        console.error('Error during call to suggestCharts:', error);\n",
              "      }\n",
              "      quickchartButtonEl.classList.remove('colab-df-spinner');\n",
              "      quickchartButtonEl.classList.add('colab-df-quickchart-complete');\n",
              "    }\n",
              "    (() => {\n",
              "      let quickchartButtonEl =\n",
              "        document.querySelector('#df-4924df5b-d808-4a55-b5ab-31f8b7ed428d button');\n",
              "      quickchartButtonEl.style.display =\n",
              "        google.colab.kernel.accessAllowed ? 'block' : 'none';\n",
              "    })();\n",
              "  </script>\n",
              "</div>\n",
              "    </div>\n",
              "  </div>\n"
            ]
          },
          "metadata": {},
          "execution_count": 4
        }
      ]
    },
    {
      "cell_type": "markdown",
      "source": [
        "## Helper functions"
      ],
      "metadata": {
        "id": "mLBY_5W3mzcG"
      }
    },
    {
      "cell_type": "code",
      "source": [
        "def load_article_content(explainer_df):\n",
        "\n",
        "  # adds new column to the dataframe\n",
        "  explainer_df['TEXT'] = ''\n",
        "\n",
        "  for index, row in explainer_df.iterrows():\n",
        "    path = 'Science_Explainers/txt_files/'\n",
        "    cur_filename = row['FILENAME']\n",
        "    cur_article = codecs.open(path + cur_filename, 'r', encoding = 'utf8').read()\n",
        "\n",
        "    # saving the text in the dataframe\n",
        "    explainer_df.at[index, 'TEXT'] = cur_article\n",
        "\n",
        "  return explainer_df\n"
      ],
      "metadata": {
        "id": "rjSGVWrem588"
      },
      "execution_count": 5,
      "outputs": []
    },
    {
      "cell_type": "code",
      "source": [
        "### custom pre-processor to eliminte numbers and instances of \"_\", \"\\\", and \"—\"\n",
        "\n",
        "def my_preprocessor(text):\n",
        "    text = text.lower()\n",
        "    text = re.sub('([0-9—_\\\\\\\\])', '', text)\n",
        "    return text"
      ],
      "metadata": {
        "id": "t8bwIqU-zcC8"
      },
      "execution_count": 6,
      "outputs": []
    },
    {
      "cell_type": "code",
      "source": [
        "### assumes the text content is in a column called 'TEXT'\n",
        "def add_dtm(explainer_df):\n",
        "\n",
        "  # using CountVectorizer to make a DTM based on the words in the corpus\n",
        "  vectorizer = CountVectorizer(input = 'content', preprocessor = my_preprocessor, stop_words = 'english', min_df = 5, encoding = 'utf8')\n",
        "  dtm = vectorizer.fit_transform(explainer_df['TEXT'])\n",
        "  words = vectorizer.get_feature_names_out()\n",
        "  matrix = dtm.toarray()\n",
        "\n",
        "  # combining the DTM with the metadata\n",
        "  DTM = pd.DataFrame(matrix, columns = words)\n",
        "\n",
        "  # attaching the DTM to the original dataframe\n",
        "  dtm_both = pd.concat([explainer_df, DTM], axis=1)\n",
        "\n",
        "  return dtm_both"
      ],
      "metadata": {
        "id": "6duiRZRmzfXh"
      },
      "execution_count": 7,
      "outputs": []
    },
    {
      "cell_type": "code",
      "source": [
        "### assumes the text content is in a column called 'TEXT'\n",
        "def add_tf_idf(explainer_df):\n",
        "\n",
        "  # using TfidfVectorizer to add the tf-idf values of each word to the dataframe\n",
        "  vectorizer = TfidfVectorizer(input = 'content', preprocessor = my_preprocessor, stop_words = 'english', min_df = 5, encoding = 'utf8')\n",
        "  tf_idf = vectorizer.fit_transform(explainer_df['TEXT'])\n",
        "  words = vectorizer.get_feature_names_out()\n",
        "\n",
        "  # converting sparse matrix to an array of arrays\n",
        "  matrix = tf_idf.toarray()\n",
        "\n",
        "  # combining the tf-idf matrix with the metadata (associated words)\n",
        "  TF_IDF = pd.DataFrame(matrix, columns = words)\n",
        "\n",
        "  # attaches the tf-idf to the original dataframe\n",
        "  tf_idf_both = pd.concat([explainer_df, TF_IDF], axis = 1)\n",
        "\n",
        "  return tf_idf_both"
      ],
      "metadata": {
        "id": "rEND1QAxZncD"
      },
      "execution_count": 8,
      "outputs": []
    },
    {
      "cell_type": "code",
      "source": [
        "### assumes the matrix starts after the 5th column\n",
        "def find_top_10_words(matrix_df):\n",
        "  # isoltes for the matrix\n",
        "  matrix = matrix_df.iloc[:, 6:]\n",
        "\n",
        "  # sums the values, result is a Pandas series\n",
        "  sum_values = matrix.sum()\n",
        "\n",
        "  # divides the sums by the number of words\n",
        "  sum_values = sum_values/len(sum_values)\n",
        "\n",
        "  return sum_values.sort_values(ascending = False)[0:11]"
      ],
      "metadata": {
        "id": "Ty5oAXKPcIGj"
      },
      "execution_count": 9,
      "outputs": []
    },
    {
      "cell_type": "markdown",
      "source": [
        "## Testing"
      ],
      "metadata": {
        "id": "-MekxWEjm1-W"
      }
    },
    {
      "cell_type": "code",
      "source": [
        "# adding the text of each article as a column in the dataframe\n",
        "explainer_df = load_article_content(explainer_df)"
      ],
      "metadata": {
        "id": "ZEp9U9CJa8Sw"
      },
      "execution_count": 10,
      "outputs": []
    },
    {
      "cell_type": "code",
      "source": [
        "# adding the dtm to the df\n",
        "dtm_df = add_dtm(explainer_df)"
      ],
      "metadata": {
        "id": "X92T5JHFQp_g"
      },
      "execution_count": 11,
      "outputs": []
    },
    {
      "cell_type": "code",
      "source": [
        "# adding the tf-idf to the df\n",
        "tf_idf_df = add_tf_idf(explainer_df)"
      ],
      "metadata": {
        "id": "20zNPzFYb4Zv"
      },
      "execution_count": 29,
      "outputs": []
    },
    {
      "cell_type": "code",
      "source": [
        "find_top_10_words(dtm_df)"
      ],
      "metadata": {
        "id": "Zm-pdufzUQ_F",
        "outputId": "c3e3809a-9dad-482b-8107-86415612fad7",
        "colab": {
          "base_uri": "https://localhost:8080/"
        }
      },
      "execution_count": 46,
      "outputs": [
        {
          "output_type": "execute_result",
          "data": {
            "text/plain": [
              "said           0.251414\n",
              "study          0.204072\n",
              "like           0.175634\n",
              "university     0.170948\n",
              "new            0.170948\n",
              "says           0.164809\n",
              "people         0.158992\n",
              "researchers    0.157538\n",
              "species        0.144450\n",
              "scientists     0.132493\n",
              "climate        0.117790\n",
              "dtype: float64"
            ]
          },
          "metadata": {},
          "execution_count": 46
        }
      ]
    },
    {
      "cell_type": "code",
      "source": [
        "find_top_10_words(tf_idf_df)"
      ],
      "metadata": {
        "id": "IDvCu0h2YqCc",
        "outputId": "743889ea-a9e6-4907-b0f5-cdb53bb60753",
        "colab": {
          "base_uri": "https://localhost:8080/"
        }
      },
      "execution_count": 47,
      "outputs": [
        {
          "output_type": "execute_result",
          "data": {
            "text/plain": [
              "said          0.002975\n",
              "says          0.002206\n",
              "study         0.001924\n",
              "species       0.001900\n",
              "university    0.001521\n",
              "people        0.001493\n",
              "reuters       0.001486\n",
              "like          0.001479\n",
              "water         0.001401\n",
              "new           0.001382\n",
              "climate       0.001350\n",
              "dtype: float64"
            ]
          },
          "metadata": {},
          "execution_count": 47
        }
      ]
    }
  ]
}